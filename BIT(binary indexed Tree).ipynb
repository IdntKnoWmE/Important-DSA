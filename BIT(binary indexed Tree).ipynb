{
 "cells": [
  {
   "cell_type": "code",
   "execution_count": 19,
   "metadata": {},
   "outputs": [],
   "source": [
    "#Create a class known as BIT for implementing bit array\n",
    "class BIT:\n",
    "    def __init__(self,arr):\n",
    "        #As we take an dummy index on the top to simnplify solution that's why we def an array of length 1 greater than input arr.\n",
    "        \n",
    "        self.array=[0 for i in range(len(arr)+1)]\n",
    "        #print(self.array)\n",
    "        \n",
    "        \"\"\"Here we call update within the loop as each index has many parents index and their value depends on it so here we pass\n",
    "        each index to update where update func add index value to index itself in BIT array as well as in their parent index also\"\"\"\n",
    "        for i in range(len(arr)):\n",
    "            self.update(i+1,arr[i])\n",
    "    \n",
    "    #UPdate called\n",
    "    def update(self,index,value):\n",
    "            #print(\"index==\",index)\n",
    "            \n",
    "            #here while loop is used to update all the parents of given index.\n",
    "            #Since parent index cannot be greater than input array length itself so this condition in while loop is used.\n",
    "            while index<=len(arr):\n",
    "                self.array[index]+=value #adding of value to index and its parent\n",
    "                \n",
    "                index=index+(index&(-index))\n",
    "                #finding the index  of parent by by incrementing the last set bit of the current index,\n",
    "                #i.e., index = index + (index & (-index))\n",
    "                \n",
    "                #print(\"updated index==\",index)\n",
    "                #print(self.array)\n",
    "    \n",
    "    #to find the sum between range l to r\n",
    "    def findingindexsum(self,l,r):\n",
    "        r=r+1\n",
    "        sum1=0\n",
    "        sum2=0\n",
    "        \n",
    "        #here in while loop the index upto which sum is to find travels through all its parents index.\n",
    "        while r>0:\n",
    "            print(\"r=\",self.array[r])\n",
    "            sum1+=self.array[r]\n",
    "            r-=r&(-r)\n",
    "        while l>0:\n",
    "            print(\"l=\",self.array[l])\n",
    "            sum2+=self.array[l]\n",
    "            l-=l&(-l)\n",
    "        \n",
    "        #here final sum is returned either between 0 and r or l and r.\n",
    "        return sum1-sum2"
   ]
  },
  {
   "cell_type": "code",
   "execution_count": 24,
   "metadata": {},
   "outputs": [
    {
     "name": "stdout",
     "output_type": "stream",
     "text": [
      "[0, 1, 3, 4, 14, 8, 17, 6, 42, 4, -1, 6, -14]\n",
      "r= 17\n",
      "r= 19\n",
      "l= 1\n",
      "35\n",
      "[0, 1, 3, 9, 19, 8, 17, 6, 47, 4, -1, 6, -14]\n"
     ]
    }
   ],
   "source": [
    "#Main Program\n",
    "if __name__==\"__main__\":\n",
    "    arr=[1,2,4,7,8,9,6,5,4,-5,6,-19]\n",
    "    binind=BIT(arr)\n",
    "    print(binind.array)\n",
    "    binind.update(3,5)\n",
    "    s=binind.findingindexsum(1,5)\n",
    "    print(s)\n",
    "    print(binind.array)"
   ]
  },
  {
   "cell_type": "code",
   "execution_count": null,
   "metadata": {},
   "outputs": [],
   "source": []
  }
 ],
 "metadata": {
  "kernelspec": {
   "display_name": "Python 3",
   "language": "python",
   "name": "python3"
  },
  "language_info": {
   "codemirror_mode": {
    "name": "ipython",
    "version": 3
   },
   "file_extension": ".py",
   "mimetype": "text/x-python",
   "name": "python",
   "nbconvert_exporter": "python",
   "pygments_lexer": "ipython3",
   "version": "3.8.3"
  }
 },
 "nbformat": 4,
 "nbformat_minor": 4
}
