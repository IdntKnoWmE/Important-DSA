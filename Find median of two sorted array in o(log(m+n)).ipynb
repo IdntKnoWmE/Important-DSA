{
 "cells": [
  {
   "cell_type": "code",
   "execution_count": 19,
   "metadata": {},
   "outputs": [],
   "source": [
    "def find(ar1,ar2):\n",
    "    i=0\n",
    "    j=0\n",
    "    c=-1\n",
    "    ans=[]\n",
    "    f=False\n",
    "    even=False\n",
    "    if (len(ar1)+len(ar2))%2==0:\n",
    "        med=(len(ar1)+len(ar2))//2\n",
    "        med-=1\n",
    "        even=True\n",
    "    else:\n",
    "        med=(len(ar1)+len(ar2))//2\n",
    "    while i<len(ar1) and j<len(ar2):\n",
    "        if ar1[i]<ar2[j]:\n",
    "            c+=1\n",
    "            if c==med and f==False:\n",
    "                med+=1\n",
    "                ans.append(ar1[i])\n",
    "                if len(ans)==2:\n",
    "                    f=True\n",
    "                    break\n",
    "            print(1,i,c,ans)\n",
    "            i+=1\n",
    "        elif ar1[i]>ar2[j]:\n",
    "            c+=1\n",
    "            if c==med and f==False:\n",
    "                med+=1\n",
    "                ans.append(ar2[j])\n",
    "                if len(ans)==2:\n",
    "                    f=True\n",
    "                    break\n",
    "            print(2,j,c,ans)\n",
    "            j+=1\n",
    "        else:\n",
    "            c+=1\n",
    "            if c==med and f==False:\n",
    "                med+=1\n",
    "                ans.append(ar1[i])\n",
    "                if len(ans)==2:\n",
    "                    f=True\n",
    "                    break\n",
    "            print(3,i,c,ans)\n",
    "            i+=1\n",
    "            c+=1\n",
    "            if c==med and f==False:\n",
    "                med+=1\n",
    "                ans.append(ar2[j])\n",
    "                if len(ans)==2:\n",
    "                    f=True\n",
    "                    break\n",
    "            print(4,j,c,ans)\n",
    "            j+=1\n",
    "        print(\"after update\",i,j,c,ans)\n",
    "    for l in range(i,len(ar1)):\n",
    "        c+=1\n",
    "        if c==med and f==False:\n",
    "            med+=1\n",
    "            ans.append(ar1[l])\n",
    "            if len(ans)==2:\n",
    "                f=True\n",
    "                break\n",
    "    for m in range(j,len(ar2)):\n",
    "        c+=1\n",
    "        if c==med and f==False:\n",
    "            med+=1\n",
    "            ans.append(ar2[m])\n",
    "            if len(ans)==2:\n",
    "                f=True\n",
    "                break\n",
    "    print(ans)\n",
    "    if even==True:\n",
    "        print(sum(ans)/2)\n",
    "    else:\n",
    "        print(float(ar1[0]))"
   ]
  },
  {
   "cell_type": "code",
   "execution_count": 20,
   "metadata": {},
   "outputs": [
    {
     "name": "stdout",
     "output_type": "stream",
     "text": [
      "[1, 2, 3, 4]\n",
      "2 0 0 []\n",
      "after update 0 1 0 []\n",
      "2 1 1 [2]\n",
      "after update 0 2 1 [2]\n",
      "[2, 3]\n",
      "2.5\n"
     ]
    }
   ],
   "source": [
    "arr1=[3,4]\n",
    "arr2=[1,2]\n",
    "print(sorted(arr1+arr2))\n",
    "find(arr1,arr2)"
   ]
  },
  {
   "cell_type": "code",
   "execution_count": null,
   "metadata": {},
   "outputs": [],
   "source": []
  }
 ],
 "metadata": {
  "kernelspec": {
   "display_name": "Python 3",
   "language": "python",
   "name": "python3"
  },
  "language_info": {
   "codemirror_mode": {
    "name": "ipython",
    "version": 3
   },
   "file_extension": ".py",
   "mimetype": "text/x-python",
   "name": "python",
   "nbconvert_exporter": "python",
   "pygments_lexer": "ipython3",
   "version": "3.8.3"
  }
 },
 "nbformat": 4,
 "nbformat_minor": 4
}
